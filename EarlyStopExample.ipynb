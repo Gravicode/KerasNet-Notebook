{
 "cells": [
  {
   "cell_type": "code",
   "execution_count": 2,
   "metadata": {
    "dotnet_interactive": {
     "language": "csharp"
    },
    "polyglot_notebook": {
     "kernelName": "csharp"
    },
    "vscode": {
     "languageId": "polyglot-notebook"
    }
   },
   "outputs": [
    {
     "data": {
      "text/html": [
       "<div><div></div><div></div><div><strong>Installed Packages</strong><ul><li><span>Keras.NET, 3.8.5</span></li></ul></div></div>"
      ]
     },
     "metadata": {},
     "output_type": "display_data"
    }
   ],
   "source": [
    "#r \"nuget:Keras.NET\"\n",
    "using Keras;\n",
    "using Keras.Callbacks;\n",
    "using Keras.Layers;\n",
    "using Keras.Models;\n",
    "using Keras.Optimizers;\n",
    "using Numpy;\n",
    "using System;\n",
    "using System.Collections.Generic;\n",
    "using System.IO;\n",
    "using System.Text;"
   ]
  },
  {
   "cell_type": "code",
   "execution_count": 5,
   "metadata": {
    "dotnet_interactive": {
     "language": "csharp"
    },
    "polyglot_notebook": {
     "kernelName": "csharp"
    },
    "vscode": {
     "languageId": "polyglot-notebook"
    }
   },
   "outputs": [
    {
     "ename": "Error",
     "evalue": "Python.Runtime.PythonException: TypeError : '>' not supported between instances of 'NoneType' and 'float'\r\n['  File \"C:\\\\Users\\\\mifma\\\\AppData\\\\Local\\\\Programs\\\\Python\\\\Python38\\\\lib\\\\site-packages\\\\tensorflow\\\\python\\\\keras\\\\engine\\\\training.py\", line 108, in _method_wrapper\\n    return method(self, *args, **kwargs)\\n', '  File \"C:\\\\Users\\\\mifma\\\\AppData\\\\Local\\\\Programs\\\\Python\\\\Python38\\\\lib\\\\site-packages\\\\tensorflow\\\\python\\\\keras\\\\engine\\\\training.py\", line 1103, in fit\\n    callbacks.on_train_batch_end(end_step, logs)\\n', '  File \"C:\\\\Users\\\\mifma\\\\AppData\\\\Local\\\\Programs\\\\Python\\\\Python38\\\\lib\\\\site-packages\\\\tensorflow\\\\python\\\\keras\\\\callbacks.py\", line 440, in on_train_batch_end\\n    self._call_batch_hook(ModeKeys.TRAIN, \\'end\\', batch, logs=logs)\\n', '  File \"C:\\\\Users\\\\mifma\\\\AppData\\\\Local\\\\Programs\\\\Python\\\\Python38\\\\lib\\\\site-packages\\\\tensorflow\\\\python\\\\keras\\\\callbacks.py\", line 289, in _call_batch_hook\\n    self._call_batch_end_hook(mode, batch, logs)\\n', '  File \"C:\\\\Users\\\\mifma\\\\AppData\\\\Local\\\\Programs\\\\Python\\\\Python38\\\\lib\\\\site-packages\\\\tensorflow\\\\python\\\\keras\\\\callbacks.py\", line 309, in _call_batch_end_hook\\n    self._call_batch_hook_helper(hook_name, batch, logs)\\n', '  File \"C:\\\\Users\\\\mifma\\\\AppData\\\\Local\\\\Programs\\\\Python\\\\Python38\\\\lib\\\\site-packages\\\\tensorflow\\\\python\\\\keras\\\\callbacks.py\", line 346, in _call_batch_hook_helper\\n    hook(batch, numpy_logs)\\n', '  File \"C:\\\\Users\\\\mifma\\\\AppData\\\\Local\\\\Programs\\\\Python\\\\Python38\\\\lib\\\\site-packages\\\\tensorflow\\\\python\\\\keras\\\\callbacks.py\", line 687, in on_train_batch_end\\n    self.on_batch_end(batch, logs=logs)\\n', '  File \"none\", line 7, in on_batch_end\\n']   at Python.Runtime.PyObject.Invoke(PyTuple args, PyDict kw)\r\n   at Python.Runtime.PyObject.InvokeMethod(String name, PyTuple args, PyDict kw)\r\n   at Keras.Base.InvokeMethod(String method, Dictionary`2 args)\r\n   at Keras.Models.BaseModel.Fit(NDarray x, NDarray y, Nullable`1 batch_size, Int32 epochs, Int32 verbose, Callback[] callbacks, Single validation_split, NDarray[] validation_data, Boolean shuffle, Dictionary`2 class_weight, NDarray sample_weight, Int32 initial_epoch, Nullable`1 steps_per_epoch, Nullable`1 validation_steps)\r\n   at Submission#6.<<Initialize>>d__0.MoveNext()\r\n--- End of stack trace from previous location ---\r\n   at Microsoft.CodeAnalysis.Scripting.ScriptExecutionState.RunSubmissionsAsync[TResult](ImmutableArray`1 precedingExecutors, Func`2 currentExecutor, StrongBox`1 exceptionHolderOpt, Func`2 catchExceptionOpt, CancellationToken cancellationToken)",
     "output_type": "error",
     "traceback": [
      "Python.Runtime.PythonException: TypeError : '>' not supported between instances of 'NoneType' and 'float'\r\n",
      "['  File \"C:\\\\Users\\\\mifma\\\\AppData\\\\Local\\\\Programs\\\\Python\\\\Python38\\\\lib\\\\site-packages\\\\tensorflow\\\\python\\\\keras\\\\engine\\\\training.py\", line 108, in _method_wrapper\\n    return method(self, *args, **kwargs)\\n', '  File \"C:\\\\Users\\\\mifma\\\\AppData\\\\Local\\\\Programs\\\\Python\\\\Python38\\\\lib\\\\site-packages\\\\tensorflow\\\\python\\\\keras\\\\engine\\\\training.py\", line 1103, in fit\\n    callbacks.on_train_batch_end(end_step, logs)\\n', '  File \"C:\\\\Users\\\\mifma\\\\AppData\\\\Local\\\\Programs\\\\Python\\\\Python38\\\\lib\\\\site-packages\\\\tensorflow\\\\python\\\\keras\\\\callbacks.py\", line 440, in on_train_batch_end\\n    self._call_batch_hook(ModeKeys.TRAIN, \\'end\\', batch, logs=logs)\\n', '  File \"C:\\\\Users\\\\mifma\\\\AppData\\\\Local\\\\Programs\\\\Python\\\\Python38\\\\lib\\\\site-packages\\\\tensorflow\\\\python\\\\keras\\\\callbacks.py\", line 289, in _call_batch_hook\\n    self._call_batch_end_hook(mode, batch, logs)\\n', '  File \"C:\\\\Users\\\\mifma\\\\AppData\\\\Local\\\\Programs\\\\Python\\\\Python38\\\\lib\\\\site-packages\\\\tensorflow\\\\python\\\\keras\\\\callbacks.py\", line 309, in _call_batch_end_hook\\n    self._call_batch_hook_helper(hook_name, batch, logs)\\n', '  File \"C:\\\\Users\\\\mifma\\\\AppData\\\\Local\\\\Programs\\\\Python\\\\Python38\\\\lib\\\\site-packages\\\\tensorflow\\\\python\\\\keras\\\\callbacks.py\", line 346, in _call_batch_hook_helper\\n    hook(batch, numpy_logs)\\n', '  File \"C:\\\\Users\\\\mifma\\\\AppData\\\\Local\\\\Programs\\\\Python\\\\Python38\\\\lib\\\\site-packages\\\\tensorflow\\\\python\\\\keras\\\\callbacks.py\", line 687, in on_train_batch_end\\n    self.on_batch_end(batch, logs=logs)\\n', '  File \"none\", line 7, in on_batch_end\\n']   at Python.Runtime.PyObject.Invoke(PyTuple args, PyDict kw)\r\n",
      "   at Python.Runtime.PyObject.InvokeMethod(String name, PyTuple args, PyDict kw)\r\n",
      "   at Keras.Base.InvokeMethod(String method, Dictionary`2 args)\r\n",
      "   at Keras.Models.BaseModel.Fit(NDarray x, NDarray y, Nullable`1 batch_size, Int32 epochs, Int32 verbose, Callback[] callbacks, Single validation_split, NDarray[] validation_data, Boolean shuffle, Dictionary`2 class_weight, NDarray sample_weight, Int32 initial_epoch, Nullable`1 steps_per_epoch, Nullable`1 validation_steps)\r\n",
      "   at Submission#6.<<Initialize>>d__0.MoveNext()\r\n",
      "--- End of stack trace from previous location ---\r\n",
      "   at Microsoft.CodeAnalysis.Scripting.ScriptExecutionState.RunSubmissionsAsync[TResult](ImmutableArray`1 precedingExecutors, Func`2 currentExecutor, StrongBox`1 exceptionHolderOpt, Func`2 catchExceptionOpt, CancellationToken cancellationToken)"
     ]
    }
   ],
   "source": [
    " //Load train data\n",
    "            NDarray x = np.array(new float[,] { { 0, 0 }, { 0, 1 }, { 1, 0 }, { 1, 1 } });\n",
    "            NDarray y = np.array(new float[] { 0, 1, 1, 0 });\n",
    "\n",
    "            //Build sequential model\n",
    "            var model = new Sequential();\n",
    "            model.Add(new Dense(4, activation: \"relu\", input_shape: new Shape(2)));\n",
    "            model.Add(new Dense(1));\n",
    "\n",
    "            var stoploss = Callback.Custom(\"AccHistory\", \"AccHistory.py\");\n",
    "\n",
    "            //Compile and train\n",
    "            model.Compile(optimizer: new SGD(), loss: \"binary_crossentropy\", metrics: new string[] { \"accuracy\" });\n",
    "            var history = model.Fit(x, y, batch_size: 2, epochs: 10, verbose: 1, callbacks: new Callback[] { stoploss });\n",
    "     "
   ]
  }
 ],
 "metadata": {
  "language_info": {
   "name": "python"
  },
  "orig_nbformat": 4
 },
 "nbformat": 4,
 "nbformat_minor": 2
}
