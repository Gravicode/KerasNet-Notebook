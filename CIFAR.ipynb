{
 "cells": [
  {
   "cell_type": "code",
   "execution_count": 1,
   "metadata": {
    "dotnet_interactive": {
     "language": "csharp"
    },
    "polyglot_notebook": {
     "kernelName": "csharp"
    },
    "vscode": {
     "languageId": "polyglot-notebook"
    }
   },
   "outputs": [
    {
     "data": {
      "text/html": [
       "<div><div></div><div></div><div><strong>Installed Packages</strong><ul><li><span>Keras.NET, 3.8.5</span></li></ul></div></div>"
      ]
     },
     "metadata": {},
     "output_type": "display_data"
    }
   ],
   "source": [
    "#r \"nuget:Keras.NET\"\n",
    "using Keras.Datasets;\n",
    "using System;\n",
    "using System.Collections.Generic;\n",
    "using System.Text;\n",
    "using Numpy;\n",
    "using K = Keras.Backend;\n",
    "using Keras;\n",
    "using Keras.Models;\n",
    "using Keras.Layers;\n",
    "using Keras.Utils;\n",
    "using Keras.Optimizers;\n",
    "using Keras.PreProcessing.Image;\n",
    "using System.IO;"
   ]
  },
  {
   "cell_type": "code",
   "execution_count": 2,
   "metadata": {
    "dotnet_interactive": {
     "language": "csharp"
    },
    "polyglot_notebook": {
     "kernelName": "csharp"
    },
    "vscode": {
     "languageId": "polyglot-notebook"
    }
   },
   "outputs": [],
   "source": [
    "private  string[] labels = new string[] { \"airplane\", \"automobile\", \"bird\", \"cat\", \"deer\", \"dog\", \"frog\", \"horse\", \"ship\", \"truck\" };\n",
    "        public  string Predict(string path)\n",
    "        {\n",
    "            string rv = \"\";\n",
    "\n",
    "            string imagePath = Path.GetFullPath(path);\n",
    "            string modelPath = Path.GetFullPath(\"model.h5\");\n",
    "            string weightsPath = Path.GetFullPath(\"weights.h5\");\n",
    "\n",
    "            if (File.Exists(imagePath))\n",
    "            {\n",
    "                var img = ImageUtil.LoadImg(path, target_size: new Shape(32, 32));\n",
    "                NDarray x = ImageUtil.ImageToArray(img);\n",
    "                x = x.reshape(1, x.shape[0], x.shape[1], x.shape[2]);\n",
    "                var model = Sequential.LoadModel(modelPath);\n",
    "                model.LoadWeight(weightsPath);\n",
    "                var y = model.Predict(x);\n",
    "                y = y.argmax();\n",
    "                int index = y.asscalar<int>();\n",
    "                rv = labels[index];\n",
    "            }\n",
    "            else\n",
    "            {\n",
    "                throw (new Exception(\"No Image found at: \" + imagePath));\n",
    "            }\n",
    "\n",
    "            return rv;\n",
    "        }"
   ]
  },
  {
   "cell_type": "code",
   "execution_count": null,
   "metadata": {
    "dotnet_interactive": {
     "language": "csharp"
    },
    "polyglot_notebook": {
     "kernelName": "csharp"
    },
    "vscode": {
     "languageId": "polyglot-notebook"
    }
   },
   "outputs": [
    {
     "name": "stdout",
     "output_type": "stream",
     "text": [
      "x_train shape: (50000, 32, 32, 3)\n",
      "50000 train samples\n",
      "10000 test samples\n"
     ]
    }
   ],
   "source": [
    " int batch_size = 128;\n",
    "            int num_classes = 10;\n",
    "            int epochs = 100;\n",
    "\n",
    "            // the data, split between train and test sets\n",
    "            var ((x_train, y_train), (x_test, y_test)) = Cifar10.LoadData();\n",
    "\n",
    "            Console.WriteLine(\"x_train shape: \" + x_train.shape);\n",
    "            Console.WriteLine(x_train.shape[0] + \" train samples\");\n",
    "            Console.WriteLine(x_test.shape[0] + \" test samples\");\n",
    "\n",
    "            // convert class vectors to binary class matrices\n",
    "            y_train = Util.ToCategorical(y_train, num_classes);\n",
    "            y_test = Util.ToCategorical(y_test, num_classes);\n",
    "\n",
    "\n",
    "            // Build CNN model\n",
    "            var model = new Sequential();\n",
    "            model.Add(new Conv2D(32, kernel_size: (3, 3).ToTuple(),\n",
    "                                 padding: \"same\",\n",
    "                                 input_shape: new Shape(32, 32, 3)));\n",
    "            model.Add(new Activation(\"relu\"));\n",
    "            model.Add(new Conv2D(32, (3, 3).ToTuple()));\n",
    "            model.Add(new Activation(\"relu\"));\n",
    "            model.Add(new MaxPooling2D(pool_size: (2, 2).ToTuple()));\n",
    "            model.Add(new Dropout(0.25));\n",
    "\n",
    "            model.Add(new Conv2D(64, kernel_size: (3, 3).ToTuple(),\n",
    "                                padding: \"same\"));\n",
    "            model.Add(new Activation(\"relu\"));\n",
    "            model.Add(new Conv2D(64, (3, 3).ToTuple()));\n",
    "            model.Add(new Activation(\"relu\"));\n",
    "            model.Add(new MaxPooling2D(pool_size: (2, 2).ToTuple()));\n",
    "            model.Add(new Dropout(0.25));\n",
    "\n",
    "            model.Add(new Flatten());\n",
    "            model.Add(new Dense(512));\n",
    "            model.Add(new Activation(\"relu\"));\n",
    "            model.Add(new Dropout(0.5));\n",
    "            model.Add(new Dense(num_classes));\n",
    "            model.Add(new Activation(\"softmax\"));\n",
    "\n",
    "            model.Compile(loss: \"categorical_crossentropy\",\n",
    "              optimizer: new RMSprop(lr: 0.0001f, decay: 1e-6f), metrics: new string[] { \"accuracy\" });\n",
    "\n",
    "            x_train = x_train.astype(np.float32);\n",
    "            x_test = x_test.astype(np.float32);\n",
    "            x_train /= 255;\n",
    "            x_test /= 255;\n",
    "\n",
    "            model.Fit(x_train, y_train,\n",
    "                          batch_size: batch_size,\n",
    "                          epochs: epochs,\n",
    "                          verbose: 1,\n",
    "                          validation_data: new NDarray[] { x_test, y_test },\n",
    "                          shuffle: true);\n",
    "\n",
    "            //Save model and weights\n",
    "            //string model_path = \"./model.json\";\n",
    "            //string weight_path = \"weights.h5\";\n",
    "            //string json = model.ToJson();\n",
    "            //File.WriteAllText(model_path, json);\n",
    "            model.SaveWeight(\"weights.h5\");\n",
    "            model.Save(\"model.h5\");\n",
    "            model.SaveTensorflowJSFormat(\"./\");\n",
    "\n",
    "            //Score trained model.\n",
    "            var score = model.Evaluate(x_test, y_test, verbose: 0);\n",
    "            Console.WriteLine(\"Test loss:\" + score[0]);\n",
    "            Console.WriteLine(\"Test accuracy:\" + score[1]);"
   ]
  }
 ],
 "metadata": {
  "language_info": {
   "name": "python"
  },
  "orig_nbformat": 4
 },
 "nbformat": 4,
 "nbformat_minor": 2
}
