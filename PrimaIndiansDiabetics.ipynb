{
 "cells": [
  {
   "cell_type": "code",
   "execution_count": 1,
   "metadata": {
    "dotnet_interactive": {
     "language": "csharp"
    },
    "polyglot_notebook": {
     "kernelName": "csharp"
    },
    "vscode": {
     "languageId": "polyglot-notebook"
    }
   },
   "outputs": [
    {
     "data": {
      "text/html": [
       "<div><div></div><div></div><div><strong>Installed Packages</strong><ul><li><span>Keras.NET, 3.8.5</span></li></ul></div></div>"
      ]
     },
     "metadata": {},
     "output_type": "display_data"
    }
   ],
   "source": [
    "#r \"nuget:Keras.NET\"\n",
    "\n",
    "using Keras;\n",
    "using Keras.Layers;\n",
    "using Keras.Models;\n",
    "using Numpy;\n",
    "using System;\n",
    "using System.Collections.Generic;\n",
    "using System.IO;\n",
    "using System.Text;"
   ]
  },
  {
   "cell_type": "code",
   "execution_count": 3,
   "metadata": {
    "vscode": {
     "languageId": "polyglot-notebook"
    }
   },
   "outputs": [
    {
     "name": "stdout",
     "output_type": "stream",
     "text": [
      "Accuracy: 77.47395634651184\n",
      "Saved model to disk\n",
      "Loaded model from disk\n",
      "Accuracy: 77.47395634651184\n"
     ]
    }
   ],
   "source": [
    "            //Load train data\n",
    "            NDarray dataset = np.loadtxt(fname: \"pima-indians-diabetes.data.csv\", delimiter: \",\");\n",
    "            var X = dataset[\":,0: 8\"];\n",
    "            var Y = dataset[\":, 8\"];\n",
    "\n",
    "            //Build sequential model\n",
    "            var model = new Sequential();\n",
    "            model.Add(new Dense(12, input_dim: 8, kernel_initializer: \"uniform\", activation: \"relu\"));\n",
    "            model.Add(new Dense(8, kernel_initializer: \"uniform\", activation: \"relu\"));\n",
    "            model.Add(new Dense(1, activation: \"sigmoid\"));\n",
    "\n",
    "            //Compile and train\n",
    "            model.Compile(optimizer:\"adam\", loss:\"binary_crossentropy\", metrics: new string[] { \"accuracy\" });\n",
    "            model.Fit(X, Y, batch_size: 10, epochs: 150, verbose: 1);\n",
    "\n",
    "            //Evaluate model\n",
    "            var scores = model.Evaluate(X, Y, verbose: 1);\n",
    "            Console.WriteLine(\"Accuracy: {0}\", scores[1] * 100);\n",
    "\n",
    "            //Save model and weights\n",
    "            string json = model.ToJson();\n",
    "            File.WriteAllText(\"model.json\", json);\n",
    "            model.SaveWeight(\"model.h5\");\n",
    "            Console.WriteLine(\"Saved model to disk\");\n",
    "            //Load model and weight\n",
    "            var loaded_model = Sequential.ModelFromJson(File.ReadAllText(\"model.json\"));\n",
    "            loaded_model.LoadWeight(\"model.h5\");\n",
    "            Console.WriteLine(\"Loaded model from disk\");\n",
    "\n",
    "            loaded_model.Compile(optimizer: \"rmsprop\", loss: \"binary_crossentropy\", metrics: new string[] { \"accuracy\" });\n",
    "            scores = model.Evaluate(X, Y, verbose: 1);\n",
    "            Console.WriteLine(\"Accuracy: {0}\", scores[1] * 100);"
   ]
  }
 ],
 "metadata": {
  "language_info": {
   "name": "python"
  },
  "orig_nbformat": 4
 },
 "nbformat": 4,
 "nbformat_minor": 2
}
