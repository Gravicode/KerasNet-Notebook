{
 "cells": [
  {
   "cell_type": "code",
   "execution_count": 2,
   "metadata": {
    "dotnet_interactive": {
     "language": "csharp"
    },
    "polyglot_notebook": {
     "kernelName": "csharp"
    },
    "vscode": {
     "languageId": "polyglot-notebook"
    }
   },
   "outputs": [
    {
     "data": {
      "text/html": [
       "<div><div></div><div></div><div><strong>Installed Packages</strong><ul><li><span>Keras.NET, 3.8.5</span></li></ul></div></div>"
      ]
     },
     "metadata": {},
     "output_type": "display_data"
    }
   ],
   "source": [
    "#r \"nuget:Keras.NET\"\n",
    "using Keras;\n",
    "using Keras.Callbacks;\n",
    "using Keras.Layers;\n",
    "using Keras.Models;\n",
    "using Keras.Optimizers;\n",
    "using Numpy;\n",
    "using System;\n",
    "using System.Collections.Generic;\n",
    "using System.IO;\n",
    "using System.Text;"
   ]
  },
  {
   "cell_type": "code",
   "execution_count": 3,
   "metadata": {
    "dotnet_interactive": {
     "language": "csharp"
    },
    "polyglot_notebook": {
     "kernelName": "csharp"
    },
    "vscode": {
     "languageId": "polyglot-notebook"
    }
   },
   "outputs": [
    {
     "ename": "Error",
     "evalue": "Python.Runtime.PythonException: AttributeError : module 'AccHistory' has no attribute 'AccHistory'\r\n   at Python.Runtime.PyObject.GetAttr(String name)\r\n   at Python.Runtime.PyObject.InvokeMethod(String name, PyObject[] args)\r\n   at Keras.Callbacks.Callback.Custom(String name, String fileOrcode, Boolean isFile)\r\n   at Submission#4.<<Initialize>>d__0.MoveNext()\r\n--- End of stack trace from previous location ---\r\n   at Microsoft.CodeAnalysis.Scripting.ScriptExecutionState.RunSubmissionsAsync[TResult](ImmutableArray`1 precedingExecutors, Func`2 currentExecutor, StrongBox`1 exceptionHolderOpt, Func`2 catchExceptionOpt, CancellationToken cancellationToken)",
     "output_type": "error",
     "traceback": [
      "Python.Runtime.PythonException: AttributeError : module 'AccHistory' has no attribute 'AccHistory'\r\n",
      "   at Python.Runtime.PyObject.GetAttr(String name)\r\n",
      "   at Python.Runtime.PyObject.InvokeMethod(String name, PyObject[] args)\r\n",
      "   at Keras.Callbacks.Callback.Custom(String name, String fileOrcode, Boolean isFile)\r\n",
      "   at Submission#4.<<Initialize>>d__0.MoveNext()\r\n",
      "--- End of stack trace from previous location ---\r\n",
      "   at Microsoft.CodeAnalysis.Scripting.ScriptExecutionState.RunSubmissionsAsync[TResult](ImmutableArray`1 precedingExecutors, Func`2 currentExecutor, StrongBox`1 exceptionHolderOpt, Func`2 catchExceptionOpt, CancellationToken cancellationToken)"
     ]
    }
   ],
   "source": [
    "  //Load train data\n",
    "            NDarray x = np.array(new float[,] { { 0, 0 }, { 0, 1 }, { 1, 0 }, { 1, 1 } });\n",
    "            NDarray y = np.array(new float[] { 0, 1, 1, 0 });\n",
    "\n",
    "            //Build sequential model\n",
    "            var model = new Sequential();\n",
    "            model.Add(new Dense(32, activation: \"relu\", input_shape: new Shape(2)));\n",
    "            model.Add(new Dense(64, activation: \"relu\"));\n",
    "            model.Add(new Dense(1, activation: \"sigmoid\"));\n",
    "\n",
    "            var lossHistory = Callback.Custom(\"AccHistory\", \"LossHistory.py\");\n",
    "\n",
    "            //Compile and train\n",
    "            model.Compile(optimizer: new SGD(), loss: \"binary_crossentropy\", metrics: new string[] { \"accuracy\" });\n",
    "            var history = model.Fit(x, y, batch_size: 2, epochs: 10, verbose: 1, callbacks: new Callback[] { lossHistory });\n",
    "\n",
    "            var customLosses = lossHistory.Get<double[]>(\"losses\");"
   ]
  }
 ],
 "metadata": {
  "language_info": {
   "name": "python"
  },
  "orig_nbformat": 4
 },
 "nbformat": 4,
 "nbformat_minor": 2
}
