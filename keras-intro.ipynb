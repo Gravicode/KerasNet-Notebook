{
 "cells": [
  {
   "cell_type": "markdown",
   "metadata": {},
   "source": [
    "[this doc on github](https://github.com/dotnet/interactive/tree/main/samples/notebooks/csharp/Samples)\n"
   ]
  },
  {
   "cell_type": "code",
   "execution_count": 1,
   "metadata": {
    "dotnet_interactive": {
     "language": "csharp"
    },
    "vscode": {
     "languageId": "polyglot-notebook"
    }
   },
   "outputs": [
    {
     "data": {
      "text/html": [
       "<div><div></div><div></div><div><strong>Installed Packages</strong><ul><li><span>Keras.NET, 3.8.5</span></li></ul></div></div>"
      ]
     },
     "metadata": {},
     "output_type": "display_data"
    }
   ],
   "source": [
    "#r \"nuget:Keras.NET\"\n",
    "using Keras.Layers;\n",
    "using Keras.Models;\n",
    "using Numpy;\n",
    "using Keras;\n",
    "using System.IO;"
   ]
  },
  {
   "cell_type": "code",
   "execution_count": 2,
   "metadata": {
    "dotnet_interactive": {
     "language": "csharp"
    },
    "vscode": {
     "languageId": "polyglot-notebook"
    }
   },
   "outputs": [],
   "source": [
    "//Load train data\n",
    "NDarray x = np.array(new float[,] { { 0, 0 }, { 0, 1 }, { 1, 0 }, { 1, 1 } });\n",
    "NDarray y = np.array(new float[] { 0, 1, 1, 0 });\n",
    "\n",
    "//Build sequential model\n",
    "var model = new Sequential();\n",
    "model.Add(new Dense(32, activation: \"relu\", input_shape: new Shape(2)));\n",
    "model.Add(new Dense(64, activation: \"relu\"));\n",
    "model.Add(new Dense(1, activation: \"sigmoid\"));\n",
    "\n",
    "//Compile and train\n",
    "model.Compile(optimizer:\"sgd\", loss:\"binary_crossentropy\", metrics: new string[] { \"accuracy\" });\n",
    "model.Fit(x, y, batch_size: 2, epochs: 1000, verbose: 1);\n",
    "\n",
    "//Save model and weights\n",
    "string json = model.ToJson();\n",
    "File.WriteAllText(\"model.json\", json);\n",
    "model.SaveWeight(\"model.h5\");\n",
    "\n",
    "//Load model and weight\n",
    "var loaded_model = Sequential.ModelFromJson(File.ReadAllText(\"model.json\"));\n",
    "loaded_model.LoadWeight(\"model.h5\");"
   ]
  }
 ],
 "metadata": {
  "kernelspec": {
   "display_name": ".NET (C#)",
   "language": "C#",
   "name": ".net-csharp"
  },
  "language_info": {
   "file_extension": ".cs",
   "mimetype": "text/x-csharp",
   "name": "C#",
   "pygments_lexer": "csharp",
   "version": "8.0"
  }
 },
 "nbformat": 4,
 "nbformat_minor": 4
}
