{
 "cells": [
  {
   "cell_type": "code",
   "execution_count": 1,
   "metadata": {
    "dotnet_interactive": {
     "language": "csharp"
    },
    "polyglot_notebook": {
     "kernelName": "csharp"
    },
    "vscode": {
     "languageId": "polyglot-notebook"
    }
   },
   "outputs": [
    {
     "data": {
      "text/html": [
       "<div><div></div><div></div><div><strong>Installed Packages</strong><ul><li><span>Keras.NET, 3.8.5</span></li></ul></div></div>"
      ]
     },
     "metadata": {},
     "output_type": "display_data"
    }
   ],
   "source": [
    "#r \"nuget:Keras.NET\"\n",
    "using Keras.Applications;\n",
    "using Keras.PreProcessing.Image;\n",
    "using System;\n",
    "using System.Collections.Generic;\n",
    "using System.Text;\n",
    "using Numpy;\n",
    "using Keras.Applications.ResNet;"
   ]
  },
  {
   "cell_type": "code",
   "execution_count": 4,
   "metadata": {
    "dotnet_interactive": {
     "language": "csharp"
    },
    "polyglot_notebook": {
     "kernelName": "csharp"
    },
    "vscode": {
     "languageId": "polyglot-notebook"
    }
   },
   "outputs": [
    {
     "ename": "Error",
     "evalue": "Python.Runtime.PythonException: ResourceExhaustedError : OOM when allocating tensor with shape[1,1,728,728] and type float on /job:localhost/replica:0/task:0/device:GPU:0 by allocator GPU_0_bfc [Op:Mul]\r\n['  File \"C:\\\\Users\\\\mifma\\\\AppData\\\\Local\\\\Programs\\\\Python\\\\Python38\\\\lib\\\\site-packages\\\\tensorflow\\\\python\\\\keras\\\\applications\\\\xception.py\", line 202, in Xception\\n    x = layers.SeparableConv2D(\\n', '  File \"C:\\\\Users\\\\mifma\\\\AppData\\\\Local\\\\Programs\\\\Python\\\\Python38\\\\lib\\\\site-packages\\\\tensorflow\\\\python\\\\keras\\\\engine\\\\base_layer.py\", line 925, in __call__\\n    return self._functional_construction_call(inputs, args, kwargs,\\n', '  File \"C:\\\\Users\\\\mifma\\\\AppData\\\\Local\\\\Programs\\\\Python\\\\Python38\\\\lib\\\\site-packages\\\\tensorflow\\\\python\\\\keras\\\\engine\\\\base_layer.py\", line 1098, in _functional_construction_call\\n    self._maybe_build(inputs)\\n', '  File \"C:\\\\Users\\\\mifma\\\\AppData\\\\Local\\\\Programs\\\\Python\\\\Python38\\\\lib\\\\site-packages\\\\tensorflow\\\\python\\\\keras\\\\engine\\\\base_layer.py\", line 2643, in _maybe_build\\n    self.build(input_shapes)  # pylint:disable=not-callable\\n', '  File \"C:\\\\Users\\\\mifma\\\\AppData\\\\Local\\\\Programs\\\\Python\\\\Python38\\\\lib\\\\site-packages\\\\tensorflow\\\\python\\\\keras\\\\layers\\\\convolutional.py\", line 1798, in build\\n    self.pointwise_kernel = self.add_weight(\\n', '  File \"C:\\\\Users\\\\mifma\\\\AppData\\\\Local\\\\Programs\\\\Python\\\\Python38\\\\lib\\\\site-packages\\\\tensorflow\\\\python\\\\keras\\\\engine\\\\base_layer.py\", line 597, in add_weight\\n    variable = self._add_variable_with_custom_getter(\\n', '  File \"C:\\\\Users\\\\mifma\\\\AppData\\\\Local\\\\Programs\\\\Python\\\\Python38\\\\lib\\\\site-packages\\\\tensorflow\\\\python\\\\training\\\\tracking\\\\base.py\", line 745, in _add_variable_with_custom_getter\\n    new_variable = getter(\\n', '  File \"C:\\\\Users\\\\mifma\\\\AppData\\\\Local\\\\Programs\\\\Python\\\\Python38\\\\lib\\\\site-packages\\\\tensorflow\\\\python\\\\keras\\\\engine\\\\base_layer_utils.py\", line 133, in make_variable\\n    return tf_variables.VariableV1(\\n', '  File \"C:\\\\Users\\\\mifma\\\\AppData\\\\Local\\\\Programs\\\\Python\\\\Python38\\\\lib\\\\site-packages\\\\tensorflow\\\\python\\\\ops\\\\variables.py\", line 260, in __call__\\n    return cls._variable_v1_call(*args, **kwargs)\\n', '  File \"C:\\\\Users\\\\mifma\\\\AppData\\\\Local\\\\Programs\\\\Python\\\\Python38\\\\lib\\\\site-packages\\\\tensorflow\\\\python\\\\ops\\\\variables.py\", line 206, in _variable_v1_call\\n    return previous_getter(\\n', '  File \"C:\\\\Users\\\\mifma\\\\AppData\\\\Local\\\\Programs\\\\Python\\\\Python38\\\\lib\\\\site-packages\\\\tensorflow\\\\python\\\\ops\\\\variables.py\", line 199, in <lambda>\\n    previous_getter = lambda **kwargs: default_variable_creator(None, **kwargs)\\n', '  File \"C:\\\\Users\\\\mifma\\\\AppData\\\\Local\\\\Programs\\\\Python\\\\Python38\\\\lib\\\\site-packages\\\\tensorflow\\\\python\\\\ops\\\\variable_scope.py\", line 2583, in default_variable_creator\\n    return resource_variable_ops.ResourceVariable(\\n', '  File \"C:\\\\Users\\\\mifma\\\\AppData\\\\Local\\\\Programs\\\\Python\\\\Python38\\\\lib\\\\site-packages\\\\tensorflow\\\\python\\\\ops\\\\variables.py\", line 264, in __call__\\n    return super(VariableMetaclass, cls).__call__(*args, **kwargs)\\n', '  File \"C:\\\\Users\\\\mifma\\\\AppData\\\\Local\\\\Programs\\\\Python\\\\Python38\\\\lib\\\\site-packages\\\\tensorflow\\\\python\\\\ops\\\\resource_variable_ops.py\", line 1507, in __init__\\n    self._init_from_args(\\n', '  File \"C:\\\\Users\\\\mifma\\\\AppData\\\\Local\\\\Programs\\\\Python\\\\Python38\\\\lib\\\\site-packages\\\\tensorflow\\\\python\\\\ops\\\\resource_variable_ops.py\", line 1651, in _init_from_args\\n    initial_value() if init_from_fn else initial_value,\\n', '  File \"C:\\\\Users\\\\mifma\\\\AppData\\\\Local\\\\Programs\\\\Python\\\\Python38\\\\lib\\\\site-packages\\\\tensorflow\\\\python\\\\keras\\\\initializers\\\\initializers_v2.py\", line 397, in __call__\\n    return super(VarianceScaling, self).__call__(shape, dtype=_get_dtype(dtype))\\n', '  File \"C:\\\\Users\\\\mifma\\\\AppData\\\\Local\\\\Programs\\\\Python\\\\Python38\\\\lib\\\\site-packages\\\\tensorflow\\\\python\\\\ops\\\\init_ops_v2.py\", line 561, in __call__\\n    return self._random_generator.random_uniform(shape, -limit, limit, dtype)\\n', '  File \"C:\\\\Users\\\\mifma\\\\AppData\\\\Local\\\\Programs\\\\Python\\\\Python38\\\\lib\\\\site-packages\\\\tensorflow\\\\python\\\\ops\\\\init_ops_v2.py\", line 1043, in random_uniform\\n    return op(\\n', '  File \"C:\\\\Users\\\\mifma\\\\AppData\\\\Local\\\\Programs\\\\Python\\\\Python38\\\\lib\\\\site-packages\\\\tensorflow\\\\python\\\\util\\\\dispatch.py\", line 201, in wrapper\\n    return target(*args, **kwargs)\\n', '  File \"C:\\\\Users\\\\mifma\\\\AppData\\\\Local\\\\Programs\\\\Python\\\\Python38\\\\lib\\\\site-packages\\\\tensorflow\\\\python\\\\ops\\\\random_ops.py\", line 307, in random_uniform\\n    result = math_ops.add(result * (maxval - minval), minval, name=name)\\n', '  File \"C:\\\\Users\\\\mifma\\\\AppData\\\\Local\\\\Programs\\\\Python\\\\Python38\\\\lib\\\\site-packages\\\\tensorflow\\\\python\\\\ops\\\\math_ops.py\", line 1124, in binary_op_wrapper\\n    return func(x, y, name=name)\\n', '  File \"C:\\\\Users\\\\mifma\\\\AppData\\\\Local\\\\Programs\\\\Python\\\\Python38\\\\lib\\\\site-packages\\\\tensorflow\\\\python\\\\ops\\\\math_ops.py\", line 1456, in _mul_dispatch\\n    return multiply(x, y, name=name)\\n', '  File \"C:\\\\Users\\\\mifma\\\\AppData\\\\Local\\\\Programs\\\\Python\\\\Python38\\\\lib\\\\site-packages\\\\tensorflow\\\\python\\\\util\\\\dispatch.py\", line 201, in wrapper\\n    return target(*args, **kwargs)\\n', '  File \"C:\\\\Users\\\\mifma\\\\AppData\\\\Local\\\\Programs\\\\Python\\\\Python38\\\\lib\\\\site-packages\\\\tensorflow\\\\python\\\\ops\\\\math_ops.py\", line 508, in multiply\\n    return gen_math_ops.mul(x, y, name)\\n', '  File \"C:\\\\Users\\\\mifma\\\\AppData\\\\Local\\\\Programs\\\\Python\\\\Python38\\\\lib\\\\site-packages\\\\tensorflow\\\\python\\\\ops\\\\gen_math_ops.py\", line 6166, in mul\\n    _ops.raise_from_not_ok_status(e, name)\\n', '  File \"C:\\\\Users\\\\mifma\\\\AppData\\\\Local\\\\Programs\\\\Python\\\\Python38\\\\lib\\\\site-packages\\\\tensorflow\\\\python\\\\framework\\\\ops.py\", line 6843, in raise_from_not_ok_status\\n    six.raise_from(core._status_to_exception(e.code, message), None)\\n', '  File \"<string>\", line 3, in raise_from\\n']   at Python.Runtime.PyObject.Invoke(PyTuple args, PyDict kw)\r\n   at Keras.Base.Instantiate()\r\n   at Keras.Base.Init()\r\n   at Keras.Applications.Xception..ctor(Boolean include_top, String weights, NDarray input_tensor, Shape input_shape, String pooling, Int32 classes)\r\n   at Submission#5.<<Initialize>>d__0.MoveNext()\r\n--- End of stack trace from previous location ---\r\n   at Microsoft.CodeAnalysis.Scripting.ScriptExecutionState.RunSubmissionsAsync[TResult](ImmutableArray`1 precedingExecutors, Func`2 currentExecutor, StrongBox`1 exceptionHolderOpt, Func`2 catchExceptionOpt, CancellationToken cancellationToken)",
     "output_type": "error",
     "traceback": [
      "Python.Runtime.PythonException: ResourceExhaustedError : OOM when allocating tensor with shape[1,1,728,728] and type float on /job:localhost/replica:0/task:0/device:GPU:0 by allocator GPU_0_bfc [Op:Mul]\r\n",
      "['  File \"C:\\\\Users\\\\mifma\\\\AppData\\\\Local\\\\Programs\\\\Python\\\\Python38\\\\lib\\\\site-packages\\\\tensorflow\\\\python\\\\keras\\\\applications\\\\xception.py\", line 202, in Xception\\n    x = layers.SeparableConv2D(\\n', '  File \"C:\\\\Users\\\\mifma\\\\AppData\\\\Local\\\\Programs\\\\Python\\\\Python38\\\\lib\\\\site-packages\\\\tensorflow\\\\python\\\\keras\\\\engine\\\\base_layer.py\", line 925, in __call__\\n    return self._functional_construction_call(inputs, args, kwargs,\\n', '  File \"C:\\\\Users\\\\mifma\\\\AppData\\\\Local\\\\Programs\\\\Python\\\\Python38\\\\lib\\\\site-packages\\\\tensorflow\\\\python\\\\keras\\\\engine\\\\base_layer.py\", line 1098, in _functional_construction_call\\n    self._maybe_build(inputs)\\n', '  File \"C:\\\\Users\\\\mifma\\\\AppData\\\\Local\\\\Programs\\\\Python\\\\Python38\\\\lib\\\\site-packages\\\\tensorflow\\\\python\\\\keras\\\\engine\\\\base_layer.py\", line 2643, in _maybe_build\\n    self.build(input_shapes)  # pylint:disable=not-callable\\n', '  File \"C:\\\\Users\\\\mifma\\\\AppData\\\\Local\\\\Programs\\\\Python\\\\Python38\\\\lib\\\\site-packages\\\\tensorflow\\\\python\\\\keras\\\\layers\\\\convolutional.py\", line 1798, in build\\n    self.pointwise_kernel = self.add_weight(\\n', '  File \"C:\\\\Users\\\\mifma\\\\AppData\\\\Local\\\\Programs\\\\Python\\\\Python38\\\\lib\\\\site-packages\\\\tensorflow\\\\python\\\\keras\\\\engine\\\\base_layer.py\", line 597, in add_weight\\n    variable = self._add_variable_with_custom_getter(\\n', '  File \"C:\\\\Users\\\\mifma\\\\AppData\\\\Local\\\\Programs\\\\Python\\\\Python38\\\\lib\\\\site-packages\\\\tensorflow\\\\python\\\\training\\\\tracking\\\\base.py\", line 745, in _add_variable_with_custom_getter\\n    new_variable = getter(\\n', '  File \"C:\\\\Users\\\\mifma\\\\AppData\\\\Local\\\\Programs\\\\Python\\\\Python38\\\\lib\\\\site-packages\\\\tensorflow\\\\python\\\\keras\\\\engine\\\\base_layer_utils.py\", line 133, in make_variable\\n    return tf_variables.VariableV1(\\n', '  File \"C:\\\\Users\\\\mifma\\\\AppData\\\\Local\\\\Programs\\\\Python\\\\Python38\\\\lib\\\\site-packages\\\\tensorflow\\\\python\\\\ops\\\\variables.py\", line 260, in __call__\\n    return cls._variable_v1_call(*args, **kwargs)\\n', '  File \"C:\\\\Users\\\\mifma\\\\AppData\\\\Local\\\\Programs\\\\Python\\\\Python38\\\\lib\\\\site-packages\\\\tensorflow\\\\python\\\\ops\\\\variables.py\", line 206, in _variable_v1_call\\n    return previous_getter(\\n', '  File \"C:\\\\Users\\\\mifma\\\\AppData\\\\Local\\\\Programs\\\\Python\\\\Python38\\\\lib\\\\site-packages\\\\tensorflow\\\\python\\\\ops\\\\variables.py\", line 199, in <lambda>\\n    previous_getter = lambda **kwargs: default_variable_creator(None, **kwargs)\\n', '  File \"C:\\\\Users\\\\mifma\\\\AppData\\\\Local\\\\Programs\\\\Python\\\\Python38\\\\lib\\\\site-packages\\\\tensorflow\\\\python\\\\ops\\\\variable_scope.py\", line 2583, in default_variable_creator\\n    return resource_variable_ops.ResourceVariable(\\n', '  File \"C:\\\\Users\\\\mifma\\\\AppData\\\\Local\\\\Programs\\\\Python\\\\Python38\\\\lib\\\\site-packages\\\\tensorflow\\\\python\\\\ops\\\\variables.py\", line 264, in __call__\\n    return super(VariableMetaclass, cls).__call__(*args, **kwargs)\\n', '  File \"C:\\\\Users\\\\mifma\\\\AppData\\\\Local\\\\Programs\\\\Python\\\\Python38\\\\lib\\\\site-packages\\\\tensorflow\\\\python\\\\ops\\\\resource_variable_ops.py\", line 1507, in __init__\\n    self._init_from_args(\\n', '  File \"C:\\\\Users\\\\mifma\\\\AppData\\\\Local\\\\Programs\\\\Python\\\\Python38\\\\lib\\\\site-packages\\\\tensorflow\\\\python\\\\ops\\\\resource_variable_ops.py\", line 1651, in _init_from_args\\n    initial_value() if init_from_fn else initial_value,\\n', '  File \"C:\\\\Users\\\\mifma\\\\AppData\\\\Local\\\\Programs\\\\Python\\\\Python38\\\\lib\\\\site-packages\\\\tensorflow\\\\python\\\\keras\\\\initializers\\\\initializers_v2.py\", line 397, in __call__\\n    return super(VarianceScaling, self).__call__(shape, dtype=_get_dtype(dtype))\\n', '  File \"C:\\\\Users\\\\mifma\\\\AppData\\\\Local\\\\Programs\\\\Python\\\\Python38\\\\lib\\\\site-packages\\\\tensorflow\\\\python\\\\ops\\\\init_ops_v2.py\", line 561, in __call__\\n    return self._random_generator.random_uniform(shape, -limit, limit, dtype)\\n', '  File \"C:\\\\Users\\\\mifma\\\\AppData\\\\Local\\\\Programs\\\\Python\\\\Python38\\\\lib\\\\site-packages\\\\tensorflow\\\\python\\\\ops\\\\init_ops_v2.py\", line 1043, in random_uniform\\n    return op(\\n', '  File \"C:\\\\Users\\\\mifma\\\\AppData\\\\Local\\\\Programs\\\\Python\\\\Python38\\\\lib\\\\site-packages\\\\tensorflow\\\\python\\\\util\\\\dispatch.py\", line 201, in wrapper\\n    return target(*args, **kwargs)\\n', '  File \"C:\\\\Users\\\\mifma\\\\AppData\\\\Local\\\\Programs\\\\Python\\\\Python38\\\\lib\\\\site-packages\\\\tensorflow\\\\python\\\\ops\\\\random_ops.py\", line 307, in random_uniform\\n    result = math_ops.add(result * (maxval - minval), minval, name=name)\\n', '  File \"C:\\\\Users\\\\mifma\\\\AppData\\\\Local\\\\Programs\\\\Python\\\\Python38\\\\lib\\\\site-packages\\\\tensorflow\\\\python\\\\ops\\\\math_ops.py\", line 1124, in binary_op_wrapper\\n    return func(x, y, name=name)\\n', '  File \"C:\\\\Users\\\\mifma\\\\AppData\\\\Local\\\\Programs\\\\Python\\\\Python38\\\\lib\\\\site-packages\\\\tensorflow\\\\python\\\\ops\\\\math_ops.py\", line 1456, in _mul_dispatch\\n    return multiply(x, y, name=name)\\n', '  File \"C:\\\\Users\\\\mifma\\\\AppData\\\\Local\\\\Programs\\\\Python\\\\Python38\\\\lib\\\\site-packages\\\\tensorflow\\\\python\\\\util\\\\dispatch.py\", line 201, in wrapper\\n    return target(*args, **kwargs)\\n', '  File \"C:\\\\Users\\\\mifma\\\\AppData\\\\Local\\\\Programs\\\\Python\\\\Python38\\\\lib\\\\site-packages\\\\tensorflow\\\\python\\\\ops\\\\math_ops.py\", line 508, in multiply\\n    return gen_math_ops.mul(x, y, name)\\n', '  File \"C:\\\\Users\\\\mifma\\\\AppData\\\\Local\\\\Programs\\\\Python\\\\Python38\\\\lib\\\\site-packages\\\\tensorflow\\\\python\\\\ops\\\\gen_math_ops.py\", line 6166, in mul\\n    _ops.raise_from_not_ok_status(e, name)\\n', '  File \"C:\\\\Users\\\\mifma\\\\AppData\\\\Local\\\\Programs\\\\Python\\\\Python38\\\\lib\\\\site-packages\\\\tensorflow\\\\python\\\\framework\\\\ops.py\", line 6843, in raise_from_not_ok_status\\n    six.raise_from(core._status_to_exception(e.code, message), None)\\n', '  File \"<string>\", line 3, in raise_from\\n']   at Python.Runtime.PyObject.Invoke(PyTuple args, PyDict kw)\r\n",
      "   at Keras.Base.Instantiate()\r\n",
      "   at Keras.Base.Init()\r\n",
      "   at Keras.Applications.Xception..ctor(Boolean include_top, String weights, NDarray input_tensor, Shape input_shape, String pooling, Int32 classes)\r\n",
      "   at Submission#5.<<Initialize>>d__0.MoveNext()\r\n",
      "--- End of stack trace from previous location ---\r\n",
      "   at Microsoft.CodeAnalysis.Scripting.ScriptExecutionState.RunSubmissionsAsync[TResult](ImmutableArray`1 precedingExecutors, Func`2 currentExecutor, StrongBox`1 exceptionHolderOpt, Func`2 catchExceptionOpt, CancellationToken cancellationToken)"
     ]
    }
   ],
   "source": [
    "var model = new Xception(weights: \"imagenet\");\n",
    "            string img_path = @\"C:\\Experiment\\Workshop-Keras\\notebook\\img\\elephant.jpg\";\n",
    "            var img = ImageUtil.LoadImg(img_path, target_size: (299, 299));\n",
    "            var x = ImageUtil.ImageToArray(img);\n",
    "            x = np.expand_dims(x, axis: 0);\n",
    "            x = model.PreprocessInput(x);\n",
    "            var preds = model.Predict(x);\n",
    "\n",
    "            var predictions = model.DecodePredictions(preds, top: 2);\n",
    "            foreach (ImageNetPrediction item in predictions)\n",
    "            {\n",
    "                Console.WriteLine(\"Name: {0}, Acc: {1}\", item.Word, item.PredictedValue);\n",
    "            }"
   ]
  },
  {
   "cell_type": "code",
   "execution_count": null,
   "metadata": {
    "dotnet_interactive": {
     "language": "csharp"
    },
    "polyglot_notebook": {
     "kernelName": "csharp"
    },
    "vscode": {
     "languageId": "polyglot-notebook"
    }
   },
   "outputs": [],
   "source": []
  }
 ],
 "metadata": {
  "language_info": {
   "name": "python"
  },
  "orig_nbformat": 4
 },
 "nbformat": 4,
 "nbformat_minor": 2
}
