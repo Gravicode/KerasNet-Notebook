{
 "cells": [
  {
   "cell_type": "code",
   "execution_count": 5,
   "metadata": {
    "dotnet_interactive": {
     "language": "csharp"
    },
    "polyglot_notebook": {
     "kernelName": "csharp"
    },
    "vscode": {
     "languageId": "polyglot-notebook"
    }
   },
   "outputs": [
    {
     "data": {
      "text/html": [
       "<div><div></div><div></div><div><strong>Installed Packages</strong><ul><li><span>Keras.NET, 3.8.5</span></li></ul></div></div>"
      ]
     },
     "metadata": {},
     "output_type": "display_data"
    }
   ],
   "source": [
    "#r \"nuget:Keras.NET\"\n",
    "\n",
    "using Keras.Datasets;\n",
    "using System;\n",
    "using System.Collections.Generic;\n",
    "using System.Text;\n",
    "using Numpy;\n",
    "using Keras;\n",
    "using Keras.Models;\n",
    "using Keras.Layers;\n",
    "using Keras.Utils;\n",
    "using Keras.Optimizers;\n",
    "//using Keras.Optimizers.Legacy;\n",
    "using System.IO;\n",
    "using K = Keras.Backend;\n",
    "\n",
    "using Keras.PreProcessing.Image;\n"
   ]
  },
  {
   "cell_type": "code",
   "execution_count": 7,
   "metadata": {
    "dotnet_interactive": {
     "language": "csharp"
    },
    "polyglot_notebook": {
     "kernelName": "csharp"
    },
    "vscode": {
     "languageId": "polyglot-notebook"
    }
   },
   "outputs": [
    {
     "name": "stdout",
     "output_type": "stream",
     "text": [
      "x_train shape: (60000, 28, 28, 1)\n",
      "60000 train samples\n",
      "10000 test samples\n",
      "Test loss:\n",
      "Test accuracy:\n"
     ]
    }
   ],
   "source": [
    "int batch_size = 128;\n",
    "int num_classes = 10;\n",
    "int epochs = 12;\n",
    "\n",
    "// input image dimensions\n",
    "int img_rows = 28, img_cols = 28;\n",
    "\n",
    "Shape input_shape = null;\n",
    "\n",
    "// the data, split between train and test sets\n",
    "var ((x_train, y_train), (x_test, y_test)) = MNIST.LoadData();\n",
    "\n",
    "if(K.ImageDataFormat() == \"channels_first\")\n",
    "{\n",
    "    x_train = x_train.reshape(x_train.shape[0], 1, img_rows, img_cols);\n",
    "    x_test = x_test.reshape(x_test.shape[0], 1, img_rows, img_cols);\n",
    "    input_shape = (1, img_rows, img_cols);\n",
    "}\n",
    "else\n",
    "{\n",
    "    x_train = x_train.reshape(x_train.shape[0], img_rows, img_cols, 1);\n",
    "    x_test = x_test.reshape(x_test.shape[0], img_rows, img_cols, 1);\n",
    "    input_shape = (img_rows, img_cols, 1);\n",
    "}\n",
    "\n",
    "x_train = x_train.astype(np.float32);\n",
    "x_test = x_test.astype(np.float32);\n",
    "x_train /= 255;\n",
    "x_test /= 255;\n",
    "Console.WriteLine(\"x_train shape: \" + x_train.shape);\n",
    "Console.WriteLine(x_train.shape[0] + \" train samples\");\n",
    "Console.WriteLine(x_test.shape[0] + \" test samples\");\n",
    "\n",
    "// convert class vectors to binary class matrices\n",
    "y_train = Util.ToCategorical(y_train, num_classes);\n",
    "y_test = Util.ToCategorical(y_test, num_classes);\n",
    "\n",
    "// Build CNN model\n",
    "var model = new Sequential();\n",
    "model.Add(new Conv2D(32, kernel_size: (3, 3).ToTuple(),\n",
    "                        activation: \"relu\",\n",
    "                        input_shape: input_shape));\n",
    "model.Add(new Conv2D(64, (3, 3).ToTuple(), activation: \"relu\"));\n",
    "model.Add(new MaxPooling2D(pool_size: (2, 2).ToTuple()));\n",
    "model.Add(new Dropout(0.25));\n",
    "model.Add(new Flatten());\n",
    "model.Add(new Dense(128, activation: \"relu\"));\n",
    "model.Add(new Dropout(0.5));\n",
    "model.Add(new Dense(num_classes, activation: \"softmax\"));\n",
    "\n",
    "model.Compile(loss: \"categorical_crossentropy\",\n",
    "    optimizer: new Adadelta(), metrics: new string[] { \"accuracy\" });\n",
    "\n",
    "model.Fit(x_train, y_train,\n",
    "            batch_size: batch_size,\n",
    "            epochs: epochs,\n",
    "            verbose: 1,\n",
    "            validation_data: new NDarray[] { x_test, y_test });\n",
    "var score = model.Evaluate(x_test, y_test, verbose: 0);\n",
    "Console.WriteLine(\"Test loss:\", score[0]);\n",
    "Console.WriteLine(\"Test accuracy:\", score[1]);"
   ]
  }
 ],
 "metadata": {
  "language_info": {
   "name": "python"
  },
  "orig_nbformat": 4
 },
 "nbformat": 4,
 "nbformat_minor": 2
}
