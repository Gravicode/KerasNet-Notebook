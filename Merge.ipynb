{
 "cells": [
  {
   "cell_type": "code",
   "execution_count": 1,
   "metadata": {
    "dotnet_interactive": {
     "language": "csharp"
    },
    "polyglot_notebook": {
     "kernelName": "csharp"
    },
    "vscode": {
     "languageId": "polyglot-notebook"
    }
   },
   "outputs": [
    {
     "data": {
      "text/html": [
       "<div><div></div><div></div><div><strong>Installed Packages</strong><ul><li><span>Keras.NET, 3.8.5</span></li></ul></div></div>"
      ]
     },
     "metadata": {},
     "output_type": "display_data"
    }
   ],
   "source": [
    "#r \"nuget:Keras.NET\"\n",
    "using Keras;\n",
    "using Keras.Layers;\n",
    "using Keras.Models;\n",
    "using Numpy;\n",
    "using System;\n",
    "using System.Collections.Generic;\n",
    "using System.Text;"
   ]
  },
  {
   "cell_type": "code",
   "execution_count": 2,
   "metadata": {
    "dotnet_interactive": {
     "language": "csharp"
    },
    "polyglot_notebook": {
     "kernelName": "csharp"
    },
    "vscode": {
     "languageId": "polyglot-notebook"
    }
   },
   "outputs": [],
   "source": [
    " var input = new Input(new Keras.Shape(32, 32));\n",
    "            //var a = new CuDNNLSTM(32).Set(input);\n",
    "            var a = new Dense(32, activation: \"sigmoid\").Set(input);\n",
    "            //a.Set(input);\n",
    "            var output = new Dense(1, activation: \"sigmoid\").Set(a);\n",
    "            //output.Set(a);\n",
    "\n",
    "            var model = new Keras.Models.Model(new Input[] { input }, new BaseLayer[] { output });\n",
    "\n",
    "            //Load train data\n",
    "            Numpy.NDarray x = np.array(new float[,] { { 0, 0 }, { 0, 1 }, { 1, 0 }, { 1, 1 } });\n",
    "            NDarray y = np.array(new float[] { 0, 1, 1, 0 });\n",
    "\n",
    "            var input1 = new Input(new Shape(32, 32, 3));\n",
    "            var conv1 = new Conv2D(32, (4, 4).ToTuple(), activation: \"relu\").Set(input1);\n",
    "            var pool1 = new MaxPooling2D((2, 2).ToTuple()).Set(conv1);\n",
    "            var flatten1 = new Flatten().Set(pool1);\n",
    "\n",
    "            var input2 = new Input(new Shape(32, 32, 3));\n",
    "            var conv2 = new Conv2D(16, (8, 8).ToTuple(), activation: \"relu\").Set(input2);\n",
    "            var pool2 = new MaxPooling2D((2, 2).ToTuple()).Set(conv2);\n",
    "            var flatten2 = new Flatten().Set(pool2);\n",
    "\n",
    "            var merge = new Concatenate(flatten1, flatten2);\n"
   ]
  }
 ],
 "metadata": {
  "language_info": {
   "name": "python"
  },
  "orig_nbformat": 4
 },
 "nbformat": 4,
 "nbformat_minor": 2
}
